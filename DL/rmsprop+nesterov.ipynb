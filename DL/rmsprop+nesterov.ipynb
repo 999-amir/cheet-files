{
 "cells": [
  {
   "cell_type": "markdown",
   "id": "a871e64f-28df-4850-b2ad-163c6b7dd445",
   "metadata": {},
   "source": [
    "<div class=\"text-info\">\n",
    "    <div class=\"text-center\">\n",
    "        <div class=\"h2\">season 3 - project 4 - rmsprop+nesterov</div>\n",
    "        <div class=\"h3\">maktabkhooneh - <span class=\"text-danger\">deep learning</span></div>\n",
    "    </div>\n",
    "    <div class=\"h4\">Name: Amir Mohammad Arghavany</div>\n",
    "    <div class=\"h4\">Email: amir.arghavoon@gmail.com</div>\n",
    "</div>"
   ]
  },
  {
   "cell_type": "code",
   "execution_count": 22,
   "id": "c2282671-c5ab-4ea6-822f-bac81ed13983",
   "metadata": {},
   "outputs": [],
   "source": [
    "def func(x1, x2):\n",
    "    return x1**2 + 2 * x2**2\n",
    "\n",
    "def func_grad(x1, x2):\n",
    "    return (2*x1, 4*x2)"
   ]
  },
  {
   "cell_type": "code",
   "execution_count": 23,
   "id": "338b4589-7d7c-4fb0-a715-2d9da7be4c10",
   "metadata": {},
   "outputs": [],
   "source": [
    "class Optimizers:\n",
    "    def __init__(self, lr_schedule):\n",
    "        self.lr_schedule = lr_schedule\n",
    "\n",
    "    def rmsprop(self, x1, x2, r1, r2, func_grad):\n",
    "        delta = 1e-7\n",
    "        rho = 0.9\n",
    "        gr_x1, gr_x2 = func_grad(x1, x2)\n",
    "        r1 = r1*rho + (1-rho)*gr_x1**2\n",
    "        r2 = r2*rho + (1-rho)*gr_x2**2\n",
    "        x1 -= self.lr_schedule/np.sqrt(delta+r1)*gr_x1\n",
    "        x2 -= self.lr_schedule/np.sqrt(delta+r2)*gr_x2\n",
    "        return x1, x2, r1, r2\n",
    "\n",
    "    def nesterov_gradient_descent_with_momentum(self, x1, x2, v1, v2, func_grad):\n",
    "        alpha=0.9\n",
    "        x1 += alpha*v1\n",
    "        x2 += alpha*v2\n",
    "        gr_x1, gr_x2 = func_grad(x1, x2)\n",
    "        v1 = alpha*v1 - self.lr_schedule*gr_x1\n",
    "        v2 = alpha*v2 - self.lr_schedule*gr_x2\n",
    "        return x1 + v1, x2 + v2, v1, v2"
   ]
  },
  {
   "cell_type": "code",
   "execution_count": 24,
   "id": "b71a3b83-0166-4128-854c-72eb6978a3f9",
   "metadata": {},
   "outputs": [],
   "source": [
    "def search(optimizer, func_grad, rate, iteration=20):\n",
    "    x1, x2, t1, t2 = -5, -2, 0, 0\n",
    "    x_iterations = [(x1, x2)]\n",
    "    for i in range(iteration):\n",
    "        x1, x2, t1, t2 = optimizer(x1, x2, t1, t2, func_grad, rate, i+1)\n",
    "        x_iterations.append((x1, x2))\n",
    "    print(\"epoch {}, x1:{}, x2:{}\".format(i+1, x1, x2))\n",
    "    return x_iterations"
   ]
  },
  {
   "cell_type": "code",
   "execution_count": 25,
   "id": "1d2159d4-6497-4b02-bf59-b92a3e685900",
   "metadata": {},
   "outputs": [],
   "source": [
    "def search_path(func, x_iterations):\n",
    "    plt.plot(*zip(*x_iterations), \"-o\", color=\"r\")\n",
    "    x1, x2 = np.meshgrid(np.arange(-5.5, 5.5, 0.1), np.arange(-5.5, 5.5, 0.1))\n",
    "    plt.contourf(x1, x2, func(x1, x2))\n",
    "    plt.xlabel(\"x1\")\n",
    "    plt.ylabel(\"x2\")"
   ]
  },
  {
   "cell_type": "code",
   "execution_count": null,
   "id": "06bd9df6-3d44-4724-9bbd-83d721756de3",
   "metadata": {},
   "outputs": [],
   "source": []
  }
 ],
 "metadata": {
  "kernelspec": {
   "display_name": "Python 3 (ipykernel)",
   "language": "python",
   "name": "python3"
  },
  "language_info": {
   "codemirror_mode": {
    "name": "ipython",
    "version": 3
   },
   "file_extension": ".py",
   "mimetype": "text/x-python",
   "name": "python",
   "nbconvert_exporter": "python",
   "pygments_lexer": "ipython3",
   "version": "3.9.18"
  }
 },
 "nbformat": 4,
 "nbformat_minor": 5
}
